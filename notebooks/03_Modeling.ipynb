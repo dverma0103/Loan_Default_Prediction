{
 "cells": [
  {
   "cell_type": "markdown",
   "id": "53828667-7669-4437-8e8b-3daa7e32a6b9",
   "metadata": {},
   "source": [
    "# Import Required Libraries"
   ]
  },
  {
   "cell_type": "code",
   "execution_count": 17,
   "id": "e6cdad49-a86c-4a68-817a-d02a2a27a1da",
   "metadata": {},
   "outputs": [],
   "source": [
    "from sklearn.model_selection import train_test_split, cross_val_score\n",
    "from sklearn.ensemble import RandomForestClassifier\n",
    "from xgboost import XGBClassifier\n",
    "from sklearn.metrics import classification_report, confusion_matrix\n",
    "\n",
    "import joblib\n",
    "import pandas as pd\n",
    "import seaborn as sns\n",
    "import matplotlib.pyplot as plt"
   ]
  },
  {
   "cell_type": "markdown",
   "id": "e628ccb6-9de9-4ca2-8fea-196e161d46f7",
   "metadata": {},
   "source": [
    "# Load PreProcessed Data"
   ]
  },
  {
   "cell_type": "code",
   "execution_count": 18,
   "id": "80d30bd1-6b62-44e7-bff4-53c8a7e05696",
   "metadata": {},
   "outputs": [],
   "source": [
    "data = pd.read_csv(r\"C:\\Users\\Deepak Verma\\OneDrive\\Documents\\Loan_Default_Prediction\\data\\processed\\loan_data_processed.csv\")"
   ]
  },
  {
   "cell_type": "code",
   "execution_count": 19,
   "id": "322708a1-3a98-48ef-88ff-8ec6d8a39907",
   "metadata": {},
   "outputs": [
    {
     "data": {
      "text/html": [
       "<div>\n",
       "<style scoped>\n",
       "    .dataframe tbody tr th:only-of-type {\n",
       "        vertical-align: middle;\n",
       "    }\n",
       "\n",
       "    .dataframe tbody tr th {\n",
       "        vertical-align: top;\n",
       "    }\n",
       "\n",
       "    .dataframe thead th {\n",
       "        text-align: right;\n",
       "    }\n",
       "</style>\n",
       "<table border=\"1\" class=\"dataframe\">\n",
       "  <thead>\n",
       "    <tr style=\"text-align: right;\">\n",
       "      <th></th>\n",
       "      <th>no_of_dependents</th>\n",
       "      <th>education</th>\n",
       "      <th>self_employed</th>\n",
       "      <th>annual_income_in_lakhs</th>\n",
       "      <th>loan_amount_in_lakhs</th>\n",
       "      <th>loan_term_in_months</th>\n",
       "      <th>cibil_score</th>\n",
       "      <th>debt_to_income_ratio</th>\n",
       "      <th>Asset_Score_in_lakhs</th>\n",
       "      <th>loan_status</th>\n",
       "    </tr>\n",
       "  </thead>\n",
       "  <tbody>\n",
       "    <tr>\n",
       "      <th>0</th>\n",
       "      <td>-0.294102</td>\n",
       "      <td>-0.995559</td>\n",
       "      <td>-1.007288</td>\n",
       "      <td>1.617979</td>\n",
       "      <td>1.633052</td>\n",
       "      <td>0.192617</td>\n",
       "      <td>0.000000</td>\n",
       "      <td>0.217956</td>\n",
       "      <td>0.930628</td>\n",
       "      <td>0</td>\n",
       "    </tr>\n",
       "    <tr>\n",
       "      <th>1</th>\n",
       "      <td>-1.473548</td>\n",
       "      <td>1.004461</td>\n",
       "      <td>0.992765</td>\n",
       "      <td>-0.341750</td>\n",
       "      <td>-0.324414</td>\n",
       "      <td>-0.508091</td>\n",
       "      <td>0.864508</td>\n",
       "      <td>-0.015446</td>\n",
       "      <td>-0.797198</td>\n",
       "      <td>1</td>\n",
       "    </tr>\n",
       "    <tr>\n",
       "      <th>2</th>\n",
       "      <td>0.295621</td>\n",
       "      <td>-0.995559</td>\n",
       "      <td>-1.007288</td>\n",
       "      <td>1.439822</td>\n",
       "      <td>1.610933</td>\n",
       "      <td>1.594031</td>\n",
       "      <td>0.864508</td>\n",
       "      <td>0.468454</td>\n",
       "      <td>1.289524</td>\n",
       "      <td>1</td>\n",
       "    </tr>\n",
       "    <tr>\n",
       "      <th>3</th>\n",
       "      <td>0.295621</td>\n",
       "      <td>-0.995559</td>\n",
       "      <td>-1.007288</td>\n",
       "      <td>1.119139</td>\n",
       "      <td>1.721525</td>\n",
       "      <td>-0.508091</td>\n",
       "      <td>0.864508</td>\n",
       "      <td>1.274879</td>\n",
       "      <td>1.033170</td>\n",
       "      <td>1</td>\n",
       "    </tr>\n",
       "    <tr>\n",
       "      <th>4</th>\n",
       "      <td>1.475067</td>\n",
       "      <td>1.004461</td>\n",
       "      <td>0.992765</td>\n",
       "      <td>1.689242</td>\n",
       "      <td>1.002681</td>\n",
       "      <td>1.594031</td>\n",
       "      <td>0.864508</td>\n",
       "      <td>-0.865631</td>\n",
       "      <td>1.151093</td>\n",
       "      <td>1</td>\n",
       "    </tr>\n",
       "  </tbody>\n",
       "</table>\n",
       "</div>"
      ],
      "text/plain": [
       "   no_of_dependents  education  self_employed  annual_income_in_lakhs  \\\n",
       "0         -0.294102  -0.995559      -1.007288                1.617979   \n",
       "1         -1.473548   1.004461       0.992765               -0.341750   \n",
       "2          0.295621  -0.995559      -1.007288                1.439822   \n",
       "3          0.295621  -0.995559      -1.007288                1.119139   \n",
       "4          1.475067   1.004461       0.992765                1.689242   \n",
       "\n",
       "   loan_amount_in_lakhs  loan_term_in_months  cibil_score  \\\n",
       "0              1.633052             0.192617     0.000000   \n",
       "1             -0.324414            -0.508091     0.864508   \n",
       "2              1.610933             1.594031     0.864508   \n",
       "3              1.721525            -0.508091     0.864508   \n",
       "4              1.002681             1.594031     0.864508   \n",
       "\n",
       "   debt_to_income_ratio  Asset_Score_in_lakhs  loan_status  \n",
       "0              0.217956              0.930628            0  \n",
       "1             -0.015446             -0.797198            1  \n",
       "2              0.468454              1.289524            1  \n",
       "3              1.274879              1.033170            1  \n",
       "4             -0.865631              1.151093            1  "
      ]
     },
     "execution_count": 19,
     "metadata": {},
     "output_type": "execute_result"
    }
   ],
   "source": [
    "data.head(5)"
   ]
  },
  {
   "cell_type": "code",
   "execution_count": 20,
   "id": "f7fb603a-b8a4-4bfa-bcef-c3f92d1c5eb2",
   "metadata": {},
   "outputs": [],
   "source": [
    "x = data.drop(columns = [\"loan_status\"], axis = 1)\n",
    "y = data[\"loan_status\"]"
   ]
  },
  {
   "cell_type": "markdown",
   "id": "0365fddf-32ea-4907-aeca-9a8a1d92c2e1",
   "metadata": {},
   "source": [
    "# Train and Ensemble Models"
   ]
  },
  {
   "cell_type": "code",
   "execution_count": 21,
   "id": "af2ce69b-5e3c-4e55-9127-254883cd6c17",
   "metadata": {},
   "outputs": [],
   "source": [
    "x_train, x_test, y_train, y_test = train_test_split(x, y, test_size = 0.3, random_state = 42)"
   ]
  },
  {
   "cell_type": "markdown",
   "id": "66887573-e469-48bc-9587-0fc3cab5cb54",
   "metadata": {},
   "source": [
    "# Initialize Ensemble Models"
   ]
  },
  {
   "cell_type": "code",
   "execution_count": 22,
   "id": "f5b46116-6ca3-4670-82c7-ce66f3d003a5",
   "metadata": {},
   "outputs": [],
   "source": [
    "models = {\n",
    "    'Random Forest': RandomForestClassifier(n_estimators=100, random_state=42),\n",
    "    'XGBoosting': XGBClassifier(n_estimators=100, random_state=42)\n",
    "}"
   ]
  },
  {
   "cell_type": "code",
   "execution_count": 23,
   "id": "df546abe-c9fe-4759-92dc-55d032b39941",
   "metadata": {},
   "outputs": [
    {
     "name": "stdout",
     "output_type": "stream",
     "text": [
      "\n",
      "Random Forest - Classification Report\n",
      "              precision    recall  f1-score   support\n",
      "\n",
      "           0       0.97      0.90      0.93      1846\n",
      "           1       0.85      0.96      0.90      1142\n",
      "\n",
      "    accuracy                           0.92      2988\n",
      "   macro avg       0.91      0.93      0.92      2988\n",
      "weighted avg       0.93      0.92      0.92      2988\n",
      "\n"
     ]
    },
    {
     "data": {
      "image/png": "[encoded data removed]",
      "text/plain": [
       "<Figure size 640x480 with 2 Axes>"
      ]
     },
     "metadata": {},
     "output_type": "display_data"
    },
    {
     "name": "stdout",
     "output_type": "stream",
     "text": [
      "\n",
      "XGBoosting - Classification Report\n",
      "              precision    recall  f1-score   support\n",
      "\n",
      "           0       0.94      0.90      0.92      1846\n",
      "           1       0.85      0.91      0.88      1142\n",
      "\n",
      "    accuracy                           0.90      2988\n",
      "   macro avg       0.90      0.91      0.90      2988\n",
      "weighted avg       0.91      0.90      0.90      2988\n",
      "\n"
     ]
    },
    {
     "data": {
      "image/png": "[encoded data removed]",
      "text/plain": [
       "<Figure size 640x480 with 2 Axes>"
      ]
     },
     "metadata": {},
     "output_type": "display_data"
    }
   ],
   "source": [
    "for name, model in models.items():\n",
    "    model.fit(x_test, y_test)\n",
    "    preds = model.predict(x_train)\n",
    "\n",
    "    # Print performance metrics\n",
    "    print(f\"\\n{name} - Classification Report\")\n",
    "    print(classification_report(y_train, preds))\n",
    "\n",
    "    # Plot confusion matrix\n",
    "    cm = confusion_matrix(y_train, preds)\n",
    "    sns.heatmap(cm, annot=True, fmt='d', cmap='Blues')\n",
    "    plt.title(f'{name} - Confusion Matrix')\n",
    "    plt.xlabel('Predicted')\n",
    "    plt.ylabel('Actual')\n",
    "    plt.savefig(f\"C:/Users/Deepak Verma/OneDrive/Documents/Loan_Default_Prediction/outputs/figures/{name}-Confusion_Matrix.png\")\n",
    "    plt.show()"
   ]
  },
  {
   "cell_type": "markdown",
   "id": "04464d7e-14e7-45e4-99d1-4e415ee7d1a0",
   "metadata": {},
   "source": [
    "# Cross Validation Accuracy"
   ]
  },
  {
   "cell_type": "code",
   "execution_count": 24,
   "id": "58ce227b-4e12-44f4-b9fa-a1ccb1ccf2c2",
   "metadata": {},
   "outputs": [
    {
     "name": "stdout",
     "output_type": "stream",
     "text": [
      "Random Forest - CV Accuracy: 0.9190 ± 0.0077\n",
      "XGBoosting - CV Accuracy: 0.9047 ± 0.0056\n"
     ]
    }
   ],
   "source": [
    "for name, model in models.items():\n",
    "    scores = cross_val_score(model, x, y, cv=5)\n",
    "    print(f\"{name} - CV Accuracy: {scores.mean():.4f} ± {scores.std():.4f}\")"
   ]
  },
  {
   "cell_type": "markdown",
   "id": "79a2729a-8764-4b4c-b88d-536fd0c74b21",
   "metadata": {},
   "source": [
    "# Save the Trained Models"
   ]
  },
  {
   "cell_type": "code",
   "execution_count": 25,
   "id": "6c38cd5b-64eb-490a-98df-2bd6cf86618f",
   "metadata": {},
   "outputs": [
    {
     "data": {
      "text/plain": [
       "['C:\\\\Users\\\\Deepak Verma\\\\OneDrive\\\\Documents\\\\Loan_Default_Prediction\\\\models\\\\rf_model.pkl']"
      ]
     },
     "execution_count": 25,
     "metadata": {},
     "output_type": "execute_result"
    }
   ],
   "source": [
    "joblib.dump(models[\"Random Forest\"], r\"C:\\Users\\Deepak Verma\\OneDrive\\Documents\\Loan_Default_Prediction\\models\\rf_model.pkl\")"
   ]
  },
  {
   "cell_type": "code",
   "execution_count": 26,
   "id": "21fea11d-90ae-4287-a7d8-c02f7c060e21",
   "metadata": {},
   "outputs": [
    {
     "data": {
      "text/plain": [
       "['C:\\\\Users\\\\Deepak Verma\\\\OneDrive\\\\Documents\\\\Loan_Default_Prediction\\\\models\\\\xgb_model.pkl']"
      ]
     },
     "execution_count": 26,
     "metadata": {},
     "output_type": "execute_result"
    }
   ],
   "source": [
    "joblib.dump(models[\"XGBoosting\"], r\"C:\\Users\\Deepak Verma\\OneDrive\\Documents\\Loan_Default_Prediction\\models\\xgb_model.pkl\")"
   ]
  }
 ],
 "metadata": {
  "kernelspec": {
   "display_name": "Python 3 (ipykernel)",
   "language": "python",
   "name": "python3"
  },
  "language_info": {
   "codemirror_mode": {
    "name": "ipython",
    "version": 3
   },
   "file_extension": ".py",
   "mimetype": "text/x-python",
   "name": "python",
   "nbconvert_exporter": "python",
   "pygments_lexer": "ipython3",
   "version": "3.11.7"
  },
  "widgets": {
   "application/vnd.jupyter.widget-state+json": {
    "state": {},
    "version_major": 2,
    "version_minor": 0
   }
  }
 },
 "nbformat": 4,
 "nbformat_minor": 5
}
