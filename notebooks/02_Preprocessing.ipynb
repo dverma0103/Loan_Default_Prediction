{
 "cells": [
  {
   "cell_type": "markdown",
   "id": "fa9c9954-6108-4c11-92b3-121fd0b4fe95",
   "metadata": {},
   "source": [
    "# Import & Load Data"
   ]
  },
  {
   "cell_type": "code",
   "execution_count": 1,
   "id": "d3e597a3-512a-46ea-9e51-7b37de21d3f0",
   "metadata": {},
   "outputs": [],
   "source": [
    "import pandas as pd\n",
    "import numpy as np\n",
    "from sklearn.preprocessing import LabelEncoder, MinMaxScaler\n",
    "import joblib"
   ]
  },
  {
   "cell_type": "code",
   "execution_count": 2,
   "id": "88bce413-07bd-4289-82ae-6cf13a204b33",
   "metadata": {},
   "outputs": [],
   "source": [
    "data = pd.read_csv(r\"C:\\Users\\Deepak Verma\\OneDrive\\Documents\\Loan_Default_Prediction\\data\\raw\\loan_approval_dataset.csv\")\n",
    "data.columns = data.columns.str.strip()"
   ]
  },
  {
   "cell_type": "code",
   "execution_count": 3,
   "id": "581a4540-52fe-41aa-b323-5439011cee29",
   "metadata": {},
   "outputs": [
    {
     "data": {
      "text/html": [
       "<div>\n",
       "<style scoped>\n",
       "    .dataframe tbody tr th:only-of-type {\n",
       "        vertical-align: middle;\n",
       "    }\n",
       "\n",
       "    .dataframe tbody tr th {\n",
       "        vertical-align: top;\n",
       "    }\n",
       "\n",
       "    .dataframe thead th {\n",
       "        text-align: right;\n",
       "    }\n",
       "</style>\n",
       "<table border=\"1\" class=\"dataframe\">\n",
       "  <thead>\n",
       "    <tr style=\"text-align: right;\">\n",
       "      <th></th>\n",
       "      <th>loan_id</th>\n",
       "      <th>no_of_dependents</th>\n",
       "      <th>education</th>\n",
       "      <th>self_employed</th>\n",
       "      <th>income_annum</th>\n",
       "      <th>loan_amount</th>\n",
       "      <th>loan_term</th>\n",
       "      <th>cibil_score</th>\n",
       "      <th>residential_assets_value</th>\n",
       "      <th>commercial_assets_value</th>\n",
       "      <th>luxury_assets_value</th>\n",
       "      <th>bank_asset_value</th>\n",
       "      <th>loan_status</th>\n",
       "    </tr>\n",
       "  </thead>\n",
       "  <tbody>\n",
       "    <tr>\n",
       "      <th>0</th>\n",
       "      <td>1</td>\n",
       "      <td>2</td>\n",
       "      <td>Graduate</td>\n",
       "      <td>No</td>\n",
       "      <td>9600000</td>\n",
       "      <td>29900000</td>\n",
       "      <td>12</td>\n",
       "      <td>778</td>\n",
       "      <td>2400000</td>\n",
       "      <td>17600000</td>\n",
       "      <td>22700000</td>\n",
       "      <td>8000000</td>\n",
       "      <td>Approved</td>\n",
       "    </tr>\n",
       "    <tr>\n",
       "      <th>1</th>\n",
       "      <td>2</td>\n",
       "      <td>0</td>\n",
       "      <td>Not Graduate</td>\n",
       "      <td>Yes</td>\n",
       "      <td>4100000</td>\n",
       "      <td>12200000</td>\n",
       "      <td>8</td>\n",
       "      <td>417</td>\n",
       "      <td>2700000</td>\n",
       "      <td>2200000</td>\n",
       "      <td>8800000</td>\n",
       "      <td>3300000</td>\n",
       "      <td>Rejected</td>\n",
       "    </tr>\n",
       "    <tr>\n",
       "      <th>2</th>\n",
       "      <td>3</td>\n",
       "      <td>3</td>\n",
       "      <td>Graduate</td>\n",
       "      <td>No</td>\n",
       "      <td>9100000</td>\n",
       "      <td>29700000</td>\n",
       "      <td>20</td>\n",
       "      <td>506</td>\n",
       "      <td>7100000</td>\n",
       "      <td>4500000</td>\n",
       "      <td>33300000</td>\n",
       "      <td>12800000</td>\n",
       "      <td>Rejected</td>\n",
       "    </tr>\n",
       "    <tr>\n",
       "      <th>3</th>\n",
       "      <td>4</td>\n",
       "      <td>3</td>\n",
       "      <td>Graduate</td>\n",
       "      <td>No</td>\n",
       "      <td>8200000</td>\n",
       "      <td>30700000</td>\n",
       "      <td>8</td>\n",
       "      <td>467</td>\n",
       "      <td>18200000</td>\n",
       "      <td>3300000</td>\n",
       "      <td>23300000</td>\n",
       "      <td>7900000</td>\n",
       "      <td>Rejected</td>\n",
       "    </tr>\n",
       "    <tr>\n",
       "      <th>4</th>\n",
       "      <td>5</td>\n",
       "      <td>5</td>\n",
       "      <td>Not Graduate</td>\n",
       "      <td>Yes</td>\n",
       "      <td>9800000</td>\n",
       "      <td>24200000</td>\n",
       "      <td>20</td>\n",
       "      <td>382</td>\n",
       "      <td>12400000</td>\n",
       "      <td>8200000</td>\n",
       "      <td>29400000</td>\n",
       "      <td>5000000</td>\n",
       "      <td>Rejected</td>\n",
       "    </tr>\n",
       "  </tbody>\n",
       "</table>\n",
       "</div>"
      ],
      "text/plain": [
       "   loan_id  no_of_dependents      education self_employed  income_annum  \\\n",
       "0        1                 2       Graduate            No       9600000   \n",
       "1        2                 0   Not Graduate           Yes       4100000   \n",
       "2        3                 3       Graduate            No       9100000   \n",
       "3        4                 3       Graduate            No       8200000   \n",
       "4        5                 5   Not Graduate           Yes       9800000   \n",
       "\n",
       "   loan_amount  loan_term  cibil_score  residential_assets_value  \\\n",
       "0     29900000         12          778                   2400000   \n",
       "1     12200000          8          417                   2700000   \n",
       "2     29700000         20          506                   7100000   \n",
       "3     30700000          8          467                  18200000   \n",
       "4     24200000         20          382                  12400000   \n",
       "\n",
       "   commercial_assets_value  luxury_assets_value  bank_asset_value loan_status  \n",
       "0                 17600000             22700000           8000000    Approved  \n",
       "1                  2200000              8800000           3300000    Rejected  \n",
       "2                  4500000             33300000          12800000    Rejected  \n",
       "3                  3300000             23300000           7900000    Rejected  \n",
       "4                  8200000             29400000           5000000    Rejected  "
      ]
     },
     "execution_count": 3,
     "metadata": {},
     "output_type": "execute_result"
    }
   ],
   "source": [
    "data.head()"
   ]
  },
  {
   "cell_type": "markdown",
   "id": "8a6879ab-5423-43a3-8c41-3f95a58eb4f7",
   "metadata": {},
   "source": [
    "# Removing Unwanted Columns"
   ]
  },
  {
   "cell_type": "code",
   "execution_count": 4,
   "id": "fc9ba9fe-1680-4639-97ab-0dd895d93228",
   "metadata": {},
   "outputs": [],
   "source": [
    "data = data.drop([\"loan_id\"], axis = 1)"
   ]
  },
  {
   "cell_type": "markdown",
   "id": "d2578c5b-7a76-461a-ab78-1390eed16609",
   "metadata": {},
   "source": [
    "# Handle Missing Values"
   ]
  },
  {
   "cell_type": "code",
   "execution_count": 5,
   "id": "ecf83305-d2f6-4d5b-8106-e41657dd0141",
   "metadata": {},
   "outputs": [
    {
     "name": "stdout",
     "output_type": "stream",
     "text": [
      "no_of_dependents            0\n",
      "education                   0\n",
      "self_employed               0\n",
      "income_annum                0\n",
      "loan_amount                 0\n",
      "loan_term                   0\n",
      "cibil_score                 0\n",
      "residential_assets_value    0\n",
      "commercial_assets_value     0\n",
      "luxury_assets_value         0\n",
      "bank_asset_value            0\n",
      "loan_status                 0\n",
      "dtype: int64\n"
     ]
    }
   ],
   "source": [
    "# Check for missing values\n",
    "\n",
    "print(data.isnull().sum())"
   ]
  },
  {
   "cell_type": "code",
   "execution_count": 6,
   "id": "9ff8e140-4184-49dc-960c-3dfc6406fa77",
   "metadata": {},
   "outputs": [
    {
     "data": {
      "text/plain": [
       "0"
      ]
     },
     "execution_count": 6,
     "metadata": {},
     "output_type": "execute_result"
    }
   ],
   "source": [
    "data.duplicated().sum()"
   ]
  },
  {
   "cell_type": "code",
   "execution_count": 7,
   "id": "f4178770-48a5-4700-a5bf-0a796f3b75fa",
   "metadata": {},
   "outputs": [],
   "source": [
    "data = data.set_axis(['no_of_dependents', 'education', \"self_employed\", \"annual_income_in_lakhs\", \"loan_amount_in_lakhs\",\n",
    "                  \"loan_term_in_months\", \"cibil_score\", \"residential_assets_value\", \"commercial_assets_value\",\n",
    "                 \"luxury_assets_value\", \"bank_asset_value\", \"loan_status\"], axis=1)"
   ]
  },
  {
   "cell_type": "code",
   "execution_count": 8,
   "id": "1545c1f3-6aa8-481c-9fb2-953bea3375f6",
   "metadata": {},
   "outputs": [],
   "source": [
    "def lakhs(value):\n",
    "    return value/100000\n",
    "\n",
    "amount_col = [\"annual_income_in_lakhs\", \"loan_amount_in_lakhs\", \"residential_assets_value\", \"commercial_assets_value\",\n",
    "                 \"luxury_assets_value\", \"bank_asset_value\"]\n",
    "\n",
    "for col in amount_col:\n",
    "    data[col] = data[col].apply(lakhs)"
   ]
  },
  {
   "cell_type": "code",
   "execution_count": 9,
   "id": "613333de-ec36-4aea-aef7-dc91fdcfbc45",
   "metadata": {},
   "outputs": [],
   "source": [
    "def loan_income_ratio(value1, value2):\n",
    "    return value2/value1\n",
    "\n",
    "data[\"debt_to_income_ratio\"] = loan_income_ratio(data[\"annual_income_in_lakhs\"], data[\"loan_amount_in_lakhs\"])"
   ]
  },
  {
   "cell_type": "code",
   "execution_count": 10,
   "id": "15a9b331-01f7-4285-8d1e-e564286eaf04",
   "metadata": {},
   "outputs": [],
   "source": [
    "def cibil_class(value):\n",
    "    if value in range(300, 600):\n",
    "        return \"Low\"\n",
    "    elif value in range(601, 699):\n",
    "        return \"Fair\"\n",
    "    elif value in range(700, 799):\n",
    "        return  \"Good\"\n",
    "    else:\n",
    "        return \"Excellent\"\n",
    "\n",
    "data[\"cibil_score\"] = data[\"cibil_score\"].apply(cibil_class)"
   ]
  },
  {
   "cell_type": "code",
   "execution_count": 11,
   "id": "3a464348-9a46-4f38-9983-3355edd158d2",
   "metadata": {},
   "outputs": [],
   "source": [
    "data[\"Asset_Score_in_lakhs\"] = data[\"residential_assets_value\"] + data[\"commercial_assets_value\"] + data[\"luxury_assets_value\"] + data[\"bank_asset_value\"]"
   ]
  },
  {
   "cell_type": "code",
   "execution_count": 12,
   "id": "bd128fbe-5414-420e-a977-23860ac65233",
   "metadata": {},
   "outputs": [],
   "source": [
    "data = data.drop(columns = [\"residential_assets_value\", \"commercial_assets_value\",\n",
    "                 \"luxury_assets_value\", \"bank_asset_value\"], axis = 1)"
   ]
  },
  {
   "cell_type": "code",
   "execution_count": 13,
   "id": "e2d789cf-1f9b-4b9c-930c-36aa88178622",
   "metadata": {},
   "outputs": [
    {
     "data": {
      "text/html": [
       "<div>\n",
       "<style scoped>\n",
       "    .dataframe tbody tr th:only-of-type {\n",
       "        vertical-align: middle;\n",
       "    }\n",
       "\n",
       "    .dataframe tbody tr th {\n",
       "        vertical-align: top;\n",
       "    }\n",
       "\n",
       "    .dataframe thead th {\n",
       "        text-align: right;\n",
       "    }\n",
       "</style>\n",
       "<table border=\"1\" class=\"dataframe\">\n",
       "  <thead>\n",
       "    <tr style=\"text-align: right;\">\n",
       "      <th></th>\n",
       "      <th>no_of_dependents</th>\n",
       "      <th>education</th>\n",
       "      <th>self_employed</th>\n",
       "      <th>annual_income_in_lakhs</th>\n",
       "      <th>loan_amount_in_lakhs</th>\n",
       "      <th>loan_term_in_months</th>\n",
       "      <th>cibil_score</th>\n",
       "      <th>loan_status</th>\n",
       "      <th>debt_to_income_ratio</th>\n",
       "      <th>Asset_Score_in_lakhs</th>\n",
       "    </tr>\n",
       "  </thead>\n",
       "  <tbody>\n",
       "    <tr>\n",
       "      <th>0</th>\n",
       "      <td>2</td>\n",
       "      <td>Graduate</td>\n",
       "      <td>No</td>\n",
       "      <td>96.0</td>\n",
       "      <td>299.0</td>\n",
       "      <td>12</td>\n",
       "      <td>Good</td>\n",
       "      <td>Approved</td>\n",
       "      <td>3.114583</td>\n",
       "      <td>507.0</td>\n",
       "    </tr>\n",
       "    <tr>\n",
       "      <th>1</th>\n",
       "      <td>0</td>\n",
       "      <td>Not Graduate</td>\n",
       "      <td>Yes</td>\n",
       "      <td>41.0</td>\n",
       "      <td>122.0</td>\n",
       "      <td>8</td>\n",
       "      <td>Low</td>\n",
       "      <td>Rejected</td>\n",
       "      <td>2.975610</td>\n",
       "      <td>170.0</td>\n",
       "    </tr>\n",
       "    <tr>\n",
       "      <th>2</th>\n",
       "      <td>3</td>\n",
       "      <td>Graduate</td>\n",
       "      <td>No</td>\n",
       "      <td>91.0</td>\n",
       "      <td>297.0</td>\n",
       "      <td>20</td>\n",
       "      <td>Low</td>\n",
       "      <td>Rejected</td>\n",
       "      <td>3.263736</td>\n",
       "      <td>577.0</td>\n",
       "    </tr>\n",
       "    <tr>\n",
       "      <th>3</th>\n",
       "      <td>3</td>\n",
       "      <td>Graduate</td>\n",
       "      <td>No</td>\n",
       "      <td>82.0</td>\n",
       "      <td>307.0</td>\n",
       "      <td>8</td>\n",
       "      <td>Low</td>\n",
       "      <td>Rejected</td>\n",
       "      <td>3.743902</td>\n",
       "      <td>527.0</td>\n",
       "    </tr>\n",
       "    <tr>\n",
       "      <th>4</th>\n",
       "      <td>5</td>\n",
       "      <td>Not Graduate</td>\n",
       "      <td>Yes</td>\n",
       "      <td>98.0</td>\n",
       "      <td>242.0</td>\n",
       "      <td>20</td>\n",
       "      <td>Low</td>\n",
       "      <td>Rejected</td>\n",
       "      <td>2.469388</td>\n",
       "      <td>550.0</td>\n",
       "    </tr>\n",
       "  </tbody>\n",
       "</table>\n",
       "</div>"
      ],
      "text/plain": [
       "   no_of_dependents      education self_employed  annual_income_in_lakhs  \\\n",
       "0                 2       Graduate            No                    96.0   \n",
       "1                 0   Not Graduate           Yes                    41.0   \n",
       "2                 3       Graduate            No                    91.0   \n",
       "3                 3       Graduate            No                    82.0   \n",
       "4                 5   Not Graduate           Yes                    98.0   \n",
       "\n",
       "   loan_amount_in_lakhs  loan_term_in_months cibil_score loan_status  \\\n",
       "0                 299.0                   12        Good    Approved   \n",
       "1                 122.0                    8         Low    Rejected   \n",
       "2                 297.0                   20         Low    Rejected   \n",
       "3                 307.0                    8         Low    Rejected   \n",
       "4                 242.0                   20         Low    Rejected   \n",
       "\n",
       "   debt_to_income_ratio  Asset_Score_in_lakhs  \n",
       "0              3.114583                 507.0  \n",
       "1              2.975610                 170.0  \n",
       "2              3.263736                 577.0  \n",
       "3              3.743902                 527.0  \n",
       "4              2.469388                 550.0  "
      ]
     },
     "execution_count": 13,
     "metadata": {},
     "output_type": "execute_result"
    }
   ],
   "source": [
    "data.head()"
   ]
  },
  {
   "cell_type": "markdown",
   "id": "bfc40d08-8d38-42a6-90b9-b062d36b310d",
   "metadata": {},
   "source": [
    "# Encode Categorical Variables"
   ]
  },
  {
   "cell_type": "code",
   "execution_count": 14,
   "id": "3a0c48d2-067f-4cf3-9163-3385ec6622dd",
   "metadata": {},
   "outputs": [],
   "source": [
    "le = LabelEncoder()\n",
    "\n",
    "binary_cols = [\"education\", \"self_employed\", \"cibil_score\", \"loan_status\"]\n",
    "\n",
    "for col in binary_cols:\n",
    "    data[col] = le.fit_transform(data[col])"
   ]
  },
  {
   "cell_type": "markdown",
   "id": "9f5871af-de29-40fa-958f-05c90d51fa71",
   "metadata": {},
   "source": [
    "# Scaling Numerical"
   ]
  },
  {
   "cell_type": "code",
   "execution_count": 15,
   "id": "c0ca6345-cfc3-48a4-9518-30548c437b8c",
   "metadata": {},
   "outputs": [],
   "source": [
    "scaler = MinMaxScaler()\n",
    "\n",
    "x = data.drop(columns = [\"loan_status\"], axis = 1)\n",
    "x_scaled = scaler.fit_transform(x)"
   ]
  },
  {
   "cell_type": "markdown",
   "id": "63d199d5-f113-454a-b0ac-358e66fc9818",
   "metadata": {},
   "source": [
    "# Save Processed Data"
   ]
  },
  {
   "cell_type": "code",
   "execution_count": 16,
   "id": "2cbb3457-c534-4554-b245-4a6167b31ac2",
   "metadata": {},
   "outputs": [],
   "source": [
    "processed_df = pd.DataFrame(x_scaled, columns = x.columns)\n",
    "processed_df[\"loan_status\"] = data[\"loan_status\"]\n",
    "processed_df.to_csv(r\"C:\\Users\\Deepak Verma\\OneDrive\\Documents\\Loan_Default_Prediction\\data\\processed\\loan_data_processed.csv\", index = False)"
   ]
  },
  {
   "cell_type": "code",
   "execution_count": 17,
   "id": "1d11b6c2-98f4-4390-a06d-449993597979",
   "metadata": {},
   "outputs": [
    {
     "data": {
      "text/html": [
       "<div>\n",
       "<style scoped>\n",
       "    .dataframe tbody tr th:only-of-type {\n",
       "        vertical-align: middle;\n",
       "    }\n",
       "\n",
       "    .dataframe tbody tr th {\n",
       "        vertical-align: top;\n",
       "    }\n",
       "\n",
       "    .dataframe thead th {\n",
       "        text-align: right;\n",
       "    }\n",
       "</style>\n",
       "<table border=\"1\" class=\"dataframe\">\n",
       "  <thead>\n",
       "    <tr style=\"text-align: right;\">\n",
       "      <th></th>\n",
       "      <th>no_of_dependents</th>\n",
       "      <th>education</th>\n",
       "      <th>self_employed</th>\n",
       "      <th>annual_income_in_lakhs</th>\n",
       "      <th>loan_amount_in_lakhs</th>\n",
       "      <th>loan_term_in_months</th>\n",
       "      <th>cibil_score</th>\n",
       "      <th>debt_to_income_ratio</th>\n",
       "      <th>Asset_Score_in_lakhs</th>\n",
       "      <th>loan_status</th>\n",
       "    </tr>\n",
       "  </thead>\n",
       "  <tbody>\n",
       "    <tr>\n",
       "      <th>0</th>\n",
       "      <td>0.4</td>\n",
       "      <td>0.0</td>\n",
       "      <td>0.0</td>\n",
       "      <td>0.969072</td>\n",
       "      <td>0.755102</td>\n",
       "      <td>0.555556</td>\n",
       "      <td>0.666667</td>\n",
       "      <td>0.645833</td>\n",
       "      <td>0.557032</td>\n",
       "      <td>0</td>\n",
       "    </tr>\n",
       "    <tr>\n",
       "      <th>1</th>\n",
       "      <td>0.0</td>\n",
       "      <td>1.0</td>\n",
       "      <td>1.0</td>\n",
       "      <td>0.402062</td>\n",
       "      <td>0.303571</td>\n",
       "      <td>0.333333</td>\n",
       "      <td>1.000000</td>\n",
       "      <td>0.590244</td>\n",
       "      <td>0.183832</td>\n",
       "      <td>1</td>\n",
       "    </tr>\n",
       "    <tr>\n",
       "      <th>2</th>\n",
       "      <td>0.6</td>\n",
       "      <td>0.0</td>\n",
       "      <td>0.0</td>\n",
       "      <td>0.917526</td>\n",
       "      <td>0.750000</td>\n",
       "      <td>1.000000</td>\n",
       "      <td>1.000000</td>\n",
       "      <td>0.705495</td>\n",
       "      <td>0.634551</td>\n",
       "      <td>1</td>\n",
       "    </tr>\n",
       "    <tr>\n",
       "      <th>3</th>\n",
       "      <td>0.6</td>\n",
       "      <td>0.0</td>\n",
       "      <td>0.0</td>\n",
       "      <td>0.824742</td>\n",
       "      <td>0.775510</td>\n",
       "      <td>0.333333</td>\n",
       "      <td>1.000000</td>\n",
       "      <td>0.897561</td>\n",
       "      <td>0.579181</td>\n",
       "      <td>1</td>\n",
       "    </tr>\n",
       "    <tr>\n",
       "      <th>4</th>\n",
       "      <td>1.0</td>\n",
       "      <td>1.0</td>\n",
       "      <td>1.0</td>\n",
       "      <td>0.989691</td>\n",
       "      <td>0.609694</td>\n",
       "      <td>1.000000</td>\n",
       "      <td>1.000000</td>\n",
       "      <td>0.387755</td>\n",
       "      <td>0.604651</td>\n",
       "      <td>1</td>\n",
       "    </tr>\n",
       "  </tbody>\n",
       "</table>\n",
       "</div>"
      ],
      "text/plain": [
       "   no_of_dependents  education  self_employed  annual_income_in_lakhs  \\\n",
       "0               0.4        0.0            0.0                0.969072   \n",
       "1               0.0        1.0            1.0                0.402062   \n",
       "2               0.6        0.0            0.0                0.917526   \n",
       "3               0.6        0.0            0.0                0.824742   \n",
       "4               1.0        1.0            1.0                0.989691   \n",
       "\n",
       "   loan_amount_in_lakhs  loan_term_in_months  cibil_score  \\\n",
       "0              0.755102             0.555556     0.666667   \n",
       "1              0.303571             0.333333     1.000000   \n",
       "2              0.750000             1.000000     1.000000   \n",
       "3              0.775510             0.333333     1.000000   \n",
       "4              0.609694             1.000000     1.000000   \n",
       "\n",
       "   debt_to_income_ratio  Asset_Score_in_lakhs  loan_status  \n",
       "0              0.645833              0.557032            0  \n",
       "1              0.590244              0.183832            1  \n",
       "2              0.705495              0.634551            1  \n",
       "3              0.897561              0.579181            1  \n",
       "4              0.387755              0.604651            1  "
      ]
     },
     "execution_count": 17,
     "metadata": {},
     "output_type": "execute_result"
    }
   ],
   "source": [
    "processed_df.head()"
   ]
  },
  {
   "cell_type": "markdown",
   "id": "45ced5ec-656c-490a-a185-ac742de2e406",
   "metadata": {},
   "source": [
    "# Save the Scaler"
   ]
  },
  {
   "cell_type": "code",
   "execution_count": 18,
   "id": "229c0f47-0220-4c1c-8775-65660165cc0d",
   "metadata": {},
   "outputs": [
    {
     "data": {
      "text/plain": [
       "['C:\\\\Users\\\\Deepak Verma\\\\OneDrive\\\\Documents\\\\Loan_Default_Prediction\\\\models\\\\preprocessing_pipeline.pkl']"
      ]
     },
     "execution_count": 18,
     "metadata": {},
     "output_type": "execute_result"
    }
   ],
   "source": [
    "joblib.dump(scaler, r\"C:\\Users\\Deepak Verma\\OneDrive\\Documents\\Loan_Default_Prediction\\models\\preprocessing_pipeline.pkl\")"
   ]
  }
 ],
 "metadata": {
  "kernelspec": {
   "display_name": "Python 3 (ipykernel)",
   "language": "python",
   "name": "python3"
  },
  "language_info": {
   "codemirror_mode": {
    "name": "ipython",
    "version": 3
   },
   "file_extension": ".py",
   "mimetype": "text/x-python",
   "name": "python",
   "nbconvert_exporter": "python",
   "pygments_lexer": "ipython3",
   "version": "3.11.7"
  },
  "widgets": {
   "application/vnd.jupyter.widget-state+json": {
    "state": {},
    "version_major": 2,
    "version_minor": 0
   }
  }
 },
 "nbformat": 4,
 "nbformat_minor": 5
}
